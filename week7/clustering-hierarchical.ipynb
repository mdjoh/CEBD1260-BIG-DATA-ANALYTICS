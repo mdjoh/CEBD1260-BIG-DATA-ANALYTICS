{
 "cells": [
  {
   "cell_type": "code",
   "execution_count": 2,
   "metadata": {},
   "outputs": [],
   "source": [
    "%matplotlib inline\n",
    "\n",
    "import pandas as pd\n",
    "import numpy as np\n",
    "import matplotlib.pyplot as plt\n",
    "import seaborn as sns\n",
    "\n",
    "from sklearn.metrics.pairwise import euclidean_distances\n",
    "from sklearn.preprocessing import StandardScaler\n",
    "\n",
    "import scipy\n",
    "import scipy.cluster.hierarchy as sch\n",
    "import collections\n",
    "\n",
    "sns.set_style('whitegrid')"
   ]
  },
  {
   "cell_type": "markdown",
   "metadata": {},
   "source": [
    "# Problem definition"
   ]
  },
  {
   "cell_type": "markdown",
   "metadata": {},
   "source": [
    "Cluster countries by happiness scored according to economic production, social support, etc.\n",
    "\n",
    "https://www.kaggle.com/unsdsn/world-happiness\n",
    "\n",
    "http://worldhappiness.report/ed/2017/"
   ]
  },
  {
   "cell_type": "markdown",
   "metadata": {},
   "source": [
    "# Load the data"
   ]
  },
  {
   "cell_type": "code",
   "execution_count": 3,
   "metadata": {},
   "outputs": [
    {
     "name": "stdout",
     "output_type": "stream",
     "text": [
      "Index(['Country', 'Happiness.Rank', 'Happiness.Score', 'Whisker.high',\n",
      "       'Whisker.low', 'Economy..GDP.per.Capita.', 'Family',\n",
      "       'Health..Life.Expectancy.', 'Freedom', 'Generosity',\n",
      "       'Trust..Government.Corruption.', 'Dystopia.Residual'],\n",
      "      dtype='object')\n"
     ]
    },
    {
     "data": {
      "text/html": [
       "<div>\n",
       "<style scoped>\n",
       "    .dataframe tbody tr th:only-of-type {\n",
       "        vertical-align: middle;\n",
       "    }\n",
       "\n",
       "    .dataframe tbody tr th {\n",
       "        vertical-align: top;\n",
       "    }\n",
       "\n",
       "    .dataframe thead th {\n",
       "        text-align: right;\n",
       "    }\n",
       "</style>\n",
       "<table border=\"1\" class=\"dataframe\">\n",
       "  <thead>\n",
       "    <tr style=\"text-align: right;\">\n",
       "      <th></th>\n",
       "      <th>Country</th>\n",
       "      <th>Happiness.Rank</th>\n",
       "      <th>Happiness.Score</th>\n",
       "      <th>Whisker.high</th>\n",
       "      <th>Whisker.low</th>\n",
       "      <th>Economy..GDP.per.Capita.</th>\n",
       "      <th>Family</th>\n",
       "      <th>Health..Life.Expectancy.</th>\n",
       "      <th>Freedom</th>\n",
       "      <th>Generosity</th>\n",
       "      <th>Trust..Government.Corruption.</th>\n",
       "      <th>Dystopia.Residual</th>\n",
       "    </tr>\n",
       "  </thead>\n",
       "  <tbody>\n",
       "    <tr>\n",
       "      <th>0</th>\n",
       "      <td>Norway</td>\n",
       "      <td>1</td>\n",
       "      <td>7.537</td>\n",
       "      <td>7.594445</td>\n",
       "      <td>7.479556</td>\n",
       "      <td>1.616463</td>\n",
       "      <td>1.533524</td>\n",
       "      <td>0.796667</td>\n",
       "      <td>0.635423</td>\n",
       "      <td>0.362012</td>\n",
       "      <td>0.315964</td>\n",
       "      <td>2.277027</td>\n",
       "    </tr>\n",
       "    <tr>\n",
       "      <th>1</th>\n",
       "      <td>Denmark</td>\n",
       "      <td>2</td>\n",
       "      <td>7.522</td>\n",
       "      <td>7.581728</td>\n",
       "      <td>7.462272</td>\n",
       "      <td>1.482383</td>\n",
       "      <td>1.551122</td>\n",
       "      <td>0.792566</td>\n",
       "      <td>0.626007</td>\n",
       "      <td>0.355280</td>\n",
       "      <td>0.400770</td>\n",
       "      <td>2.313707</td>\n",
       "    </tr>\n",
       "    <tr>\n",
       "      <th>2</th>\n",
       "      <td>Iceland</td>\n",
       "      <td>3</td>\n",
       "      <td>7.504</td>\n",
       "      <td>7.622030</td>\n",
       "      <td>7.385970</td>\n",
       "      <td>1.480633</td>\n",
       "      <td>1.610574</td>\n",
       "      <td>0.833552</td>\n",
       "      <td>0.627163</td>\n",
       "      <td>0.475540</td>\n",
       "      <td>0.153527</td>\n",
       "      <td>2.322715</td>\n",
       "    </tr>\n",
       "    <tr>\n",
       "      <th>3</th>\n",
       "      <td>Switzerland</td>\n",
       "      <td>4</td>\n",
       "      <td>7.494</td>\n",
       "      <td>7.561772</td>\n",
       "      <td>7.426227</td>\n",
       "      <td>1.564980</td>\n",
       "      <td>1.516912</td>\n",
       "      <td>0.858131</td>\n",
       "      <td>0.620071</td>\n",
       "      <td>0.290549</td>\n",
       "      <td>0.367007</td>\n",
       "      <td>2.276716</td>\n",
       "    </tr>\n",
       "    <tr>\n",
       "      <th>4</th>\n",
       "      <td>Finland</td>\n",
       "      <td>5</td>\n",
       "      <td>7.469</td>\n",
       "      <td>7.527542</td>\n",
       "      <td>7.410458</td>\n",
       "      <td>1.443572</td>\n",
       "      <td>1.540247</td>\n",
       "      <td>0.809158</td>\n",
       "      <td>0.617951</td>\n",
       "      <td>0.245483</td>\n",
       "      <td>0.382612</td>\n",
       "      <td>2.430182</td>\n",
       "    </tr>\n",
       "  </tbody>\n",
       "</table>\n",
       "</div>"
      ],
      "text/plain": [
       "       Country  Happiness.Rank  Happiness.Score  Whisker.high  Whisker.low  \\\n",
       "0       Norway               1            7.537      7.594445     7.479556   \n",
       "1      Denmark               2            7.522      7.581728     7.462272   \n",
       "2      Iceland               3            7.504      7.622030     7.385970   \n",
       "3  Switzerland               4            7.494      7.561772     7.426227   \n",
       "4      Finland               5            7.469      7.527542     7.410458   \n",
       "\n",
       "   Economy..GDP.per.Capita.    Family  Health..Life.Expectancy.   Freedom  \\\n",
       "0                  1.616463  1.533524                  0.796667  0.635423   \n",
       "1                  1.482383  1.551122                  0.792566  0.626007   \n",
       "2                  1.480633  1.610574                  0.833552  0.627163   \n",
       "3                  1.564980  1.516912                  0.858131  0.620071   \n",
       "4                  1.443572  1.540247                  0.809158  0.617951   \n",
       "\n",
       "   Generosity  Trust..Government.Corruption.  Dystopia.Residual  \n",
       "0    0.362012                       0.315964           2.277027  \n",
       "1    0.355280                       0.400770           2.313707  \n",
       "2    0.475540                       0.153527           2.322715  \n",
       "3    0.290549                       0.367007           2.276716  \n",
       "4    0.245483                       0.382612           2.430182  "
      ]
     },
     "execution_count": 3,
     "metadata": {},
     "output_type": "execute_result"
    }
   ],
   "source": [
    "df = pd.read_csv('data/wh_2017.csv')\n",
    "print(df.columns)\n",
    "df.head()"
   ]
  },
  {
   "cell_type": "markdown",
   "metadata": {},
   "source": [
    "# Feature Engineering "
   ]
  },
  {
   "cell_type": "code",
   "execution_count": 4,
   "metadata": {},
   "outputs": [
    {
     "name": "stderr",
     "output_type": "stream",
     "text": [
      "C:\\ProgramData\\Anaconda3\\lib\\site-packages\\sklearn\\utils\\validation.py:475: DataConversionWarning: Data with input dtype int64 was converted to float64 by StandardScaler.\n",
      "  warnings.warn(msg, DataConversionWarning)\n",
      "C:\\ProgramData\\Anaconda3\\lib\\site-packages\\sklearn\\utils\\validation.py:475: DataConversionWarning: Data with input dtype int64 was converted to float64 by StandardScaler.\n",
      "  warnings.warn(msg, DataConversionWarning)\n"
     ]
    }
   ],
   "source": [
    "# select the columns\n",
    "features_cols = list(set(list(df.columns)) - set(['Country']))\n",
    "\n",
    "# normalize the all the numerical data\n",
    "for col in features_cols:\n",
    "    df[col+'_scaled'] = StandardScaler().fit_transform(df[col].values.reshape(-1, 1))\n",
    "\n",
    "# pick and choose scaled features\n",
    "X_columns = ['Happiness.Score_scaled', 'Economy..GDP.per.Capita._scaled', 'Health..Life.Expectancy._scaled', 'Freedom_scaled',  'Trust..Government.Corruption._scaled', 'Dystopia.Residual_scaled']"
   ]
  },
  {
   "cell_type": "markdown",
   "metadata": {},
   "source": [
    "# Model Training"
   ]
  },
  {
   "cell_type": "code",
   "execution_count": 11,
   "metadata": {},
   "outputs": [
    {
     "data": {
      "image/png": "[encoded data removed]",
      "text/plain": [
       "<Figure size 432x288 with 1 Axes>"
      ]
     },
     "metadata": {},
     "output_type": "display_data"
    },
    {
     "name": "stdout",
     "output_type": "stream",
     "text": [
      "{1, 2, 3, 4, 5}\n",
      "Counter({5: 62, 2: 42, 4: 23, 3: 22, 1: 6})\n"
     ]
    }
   ],
   "source": [
    "k = 5\n",
    "color_threshold = 4. # this threshold is too small as seen in output to distinguish 5 clusters in the dendrogram\n",
    "d = sch.distance.pdist(df[X_columns])\n",
    "Z= sch.linkage(d, method = 'ward') # minimize within cluster variation\n",
    "T = sch.fcluster(Z, k, 'maxclust')\n",
    "P = sch.dendrogram(Z, color_threshold=color_threshold)\n",
    "plt.show()\n",
    "\n",
    "print(set(T))\n",
    "print(collections.Counter(T))\n",
    "\n",
    "df_results = df.copy()\n",
    "df_results['cluster'] = T\n",
    "df['cluster'] = T"
   ]
  },
  {
   "cell_type": "code",
   "execution_count": 12,
   "metadata": {},
   "outputs": [
    {
     "name": "stdout",
     "output_type": "stream",
     "text": [
      "1 6\n",
      "['Botswana', 'Cambodia', 'Myanmar', 'Rwanda', 'Sri Lanka', 'Tanzania']\n",
      "2 42\n",
      "['Afghanistan', 'Angola', 'Bangladesh', 'Benin', 'Burkina Faso', 'Burundi', 'Cameroon', 'Central African Republic', 'Chad', 'Congo (Brazzaville)', 'Congo (Kinshasa)', 'Ethiopia', 'Ghana', 'Guinea', 'Haiti', 'India', 'Ivory Coast', 'Kenya', 'Kyrgyzstan', 'Lesotho', 'Liberia', 'Madagascar', 'Malawi', 'Mali', 'Mauritania', 'Mozambique', 'Namibia', 'Nepal', 'Niger', 'Nigeria', 'Senegal', 'Sierra Leone', 'Somalia', 'South Africa', 'South Sudan', 'Sudan', 'Tajikistan', 'Togo', 'Uganda', 'Yemen', 'Zambia', 'Zimbabwe']\n",
      "3 22\n",
      "['Australia', 'Austria', 'Bahrain', 'Belgium', 'Canada', 'Denmark', 'Finland', 'Germany', 'Hong Kong S.A.R., China', 'Ireland', 'Kuwait', 'Luxembourg', 'Netherlands', 'New Zealand', 'Norway', 'Qatar', 'Saudi Arabia', 'Singapore', 'Sweden', 'Switzerland', 'United Arab Emirates', 'United Kingdom']\n",
      "4 23\n",
      "['Algeria', 'Argentina', 'Belize', 'Bolivia', 'Brazil', 'Chile', 'Colombia', 'Costa Rica', 'Czech Republic', 'Ecuador', 'El Salvador', 'France', 'Guatemala', 'Iceland', 'Israel', 'Mexico', 'Moldova', 'Morocco', 'Nicaragua', 'Pakistan', 'Panama', 'United States', 'Uruguay']\n",
      "5 62\n",
      "['Albania', 'Armenia', 'Azerbaijan', 'Belarus', 'Bhutan', 'Bosnia and Herzegovina', 'Bulgaria', 'China', 'Croatia', 'Cyprus', 'Dominican Republic', 'Egypt', 'Estonia', 'Gabon', 'Georgia', 'Greece', 'Honduras', 'Hungary', 'Indonesia', 'Iran', 'Iraq', 'Italy', 'Jamaica', 'Japan', 'Jordan', 'Kazakhstan', 'Kosovo', 'Latvia', 'Lebanon', 'Libya', 'Lithuania', 'Macedonia', 'Malaysia', 'Malta', 'Mauritius', 'Mongolia', 'Montenegro', 'North Cyprus', 'Palestinian Territories', 'Paraguay', 'Peru', 'Philippines', 'Poland', 'Portugal', 'Romania', 'Russia', 'Serbia', 'Slovakia', 'Slovenia', 'South Korea', 'Spain', 'Syria', 'Taiwan Province of China', 'Thailand', 'Trinidad and Tobago', 'Tunisia', 'Turkey', 'Turkmenistan', 'Ukraine', 'Uzbekistan', 'Venezuela', 'Vietnam']\n"
     ]
    }
   ],
   "source": [
    "# Analyze the results\n",
    "for cluster in set(T):\n",
    "    print((cluster), (len(df_results[df_results['cluster']==cluster]['Country'])))\n",
    "    print(sorted(list(df_results[df_results['cluster']==cluster]['Country'])))"
   ]
  },
  {
   "cell_type": "code",
   "execution_count": null,
   "metadata": {},
   "outputs": [],
   "source": [
    "# Analyze the centroids\n",
    "df_results.groupby('cluster').mean().round(2).T"
   ]
  },
  {
   "cell_type": "code",
   "execution_count": null,
   "metadata": {},
   "outputs": [],
   "source": [
    "# Analyze the results\n",
    "for col in X_columns:\n",
    "    print(col)\n",
    "    for cluster in set(T):\n",
    "        plt.hist(df_results[df_results['cluster']==cluster][col], label=str(cluster), alpha=0.3, bins=20)\n",
    "    #plt.legend()\n",
    "    plt.show()"
   ]
  },
  {
   "cell_type": "code",
   "execution_count": null,
   "metadata": {},
   "outputs": [],
   "source": [
    "# Analyze the results\n",
    "n_clusters = len(set(T))\n",
    "print(n_clusters)\n",
    "for col in X_columns:\n",
    "    print(col)\n",
    "    i = 1\n",
    "    plt.figure(figsize=(16,3))\n",
    "    for cluster in sorted(set(T)):\n",
    "        plt.subplot(1, n_clusters, i)\n",
    "        plt.xlim([0,df_results[col].max()])\n",
    "        plt.hist(df_results[df_results['cluster']==cluster][col], label=str(cluster), alpha=0.3, bins=10)\n",
    "        i += 1\n",
    "    plt.show()"
   ]
  },
  {
   "cell_type": "code",
   "execution_count": null,
   "metadata": {
    "scrolled": false
   },
   "outputs": [],
   "source": [
    "# Analyze the correlation with Happiness Score\n",
    "for c in ['Happiness.Score', 'Economy..GDP.per.Capita.', 'Family', 'Health..Life.Expectancy.', 'Freedom', 'Generosity', 'Trust..Government.Corruption.', 'Dystopia.Residual']:\n",
    "    print(c)\n",
    "    plt.plot(df_results['Happiness.Score'], df_results[c], 'o')\n",
    "    plt.show()"
   ]
  },
  {
   "cell_type": "markdown",
   "metadata": {},
   "source": [
    "# Model Evaluation"
   ]
  },
  {
   "cell_type": "code",
   "execution_count": null,
   "metadata": {},
   "outputs": [],
   "source": [
    "# Inter-Cluster\n",
    "centroids = []\n",
    "for cluster in sorted(set(T)):\n",
    "    centroids.append(df[df['cluster']==cluster][X_columns].mean().values)\n",
    "distances = []\n",
    "for c1 in centroids:\n",
    "    for c2 in centroids:\n",
    "        distances.append(euclidean_distances(c1.reshape(-1, 1), c2.reshape(-1, 1))[0][0])\n",
    "print('Inter Cluster distance', np.mean(distances))\n",
    "\n",
    "# Intra-Cluster\n",
    "distances = []\n",
    "for cluster in sorted(set(T)):\n",
    "    df_filter = df[df['cluster']==cluster]\n",
    "    centroid = df_filter[X_columns].mean().values\n",
    "    for k, v in df_filter[X_columns].iterrows():\n",
    "        distances.append(euclidean_distances(centroid.reshape(-1, 1), v.values.reshape(-1, 1))[0][0])\n",
    "print('Intra Cluster distance', np.mean(distances))\n",
    "\n",
    "# Inertia\n",
    "distances = []\n",
    "for cluster in sorted(set(T)):\n",
    "    df_filter = df[df['cluster']==cluster]\n",
    "    centroid = df_filter[X_columns].mean().values\n",
    "    for k, v in df_filter[X_columns].iterrows():\n",
    "        distances.append(euclidean_distances(centroid.reshape(1, -1), v.values.reshape(1, -1), squared=True)[0][0])\n",
    "print('Inertia', np.sum(distances))"
   ]
  },
  {
   "cell_type": "code",
   "execution_count": null,
   "metadata": {},
   "outputs": [],
   "source": [
    "inertia = []\n",
    "number_k = []\n",
    "for k in range(2,100,10):\n",
    "    d = sch.distance.pdist(df[X_columns])\n",
    "    Z= sch.linkage(d, method = 'ward')\n",
    "    T = sch.fcluster(Z, k, 'maxclust')\n",
    "    df['cluster'] = T\n",
    "\n",
    "    # Inertia\n",
    "    distances = []\n",
    "    for cluster in sorted(set(T)):\n",
    "        df_filter = df[df['cluster']==cluster]\n",
    "        centroid = df_filter[X_columns].mean().values\n",
    "        for _, v in df_filter[X_columns].iterrows():\n",
    "            distances.append(euclidean_distances(centroid.reshape(1, -1), v.values.reshape(1, -1), squared=True)[0][0])\n",
    "    inertia.append(np.sum(distances))\n",
    "    number_k.append(k)\n",
    "plt.plot(number_k, inertia)\n",
    "plt.show()"
   ]
  },
  {
   "cell_type": "code",
   "execution_count": null,
   "metadata": {},
   "outputs": [],
   "source": []
  },
  {
   "cell_type": "code",
   "execution_count": null,
   "metadata": {},
   "outputs": [],
   "source": []
  },
  {
   "cell_type": "code",
   "execution_count": null,
   "metadata": {},
   "outputs": [],
   "source": []
  }
 ],
 "metadata": {
  "anaconda-cloud": {},
  "kernelspec": {
   "display_name": "Python 3",
   "language": "python",
   "name": "python3"
  },
  "language_info": {
   "codemirror_mode": {
    "name": "ipython",
    "version": 3
   },
   "file_extension": ".py",
   "mimetype": "text/x-python",
   "name": "python",
   "nbconvert_exporter": "python",
   "pygments_lexer": "ipython3",
   "version": "3.6.5"
  }
 },
 "nbformat": 4,
 "nbformat_minor": 1
}
